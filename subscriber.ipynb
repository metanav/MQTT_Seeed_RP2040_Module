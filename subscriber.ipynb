{
 "cells": [
  {
   "cell_type": "code",
   "execution_count": null,
   "metadata": {},
   "outputs": [],
   "source": [
    "import paho.mqtt.client as mqttClient\n",
    "from jupyterplot import ProgressPlot"
   ]
  },
  {
   "cell_type": "code",
   "execution_count": null,
   "metadata": {},
   "outputs": [],
   "source": [
    "def on_connect(client, userdata, flags, rc):\n",
    "    if rc == 0:\n",
    "        print(\"Connected to broker\")\n",
    "        global Connected                # Use global variable\n",
    "        Connected = True                # Signal connection\n",
    "    else:\n",
    "        print(\"Connection failed\")\n",
    "\n",
    "def on_disconnect(client, userdata, rc):\n",
    "    print(\"Disonnected.\", rc)\n"
   ]
  },
  {
   "cell_type": "code",
   "execution_count": null,
   "metadata": {},
   "outputs": [],
   "source": [
    "Connected = False   #global variable for the state of the connection\n",
    "\n",
    "broker_address= \"mqtt_broker_url_or_ip_address\"  #Broker address\n",
    "port = 1883                        # Broker port\n",
    "user = \"myuser\"                    # Connection username\n",
    "password = \"mypassword\"            # Connection password\n",
    "topic = \"sensors/data\""
   ]
  },
  {
   "cell_type": "code",
   "execution_count": null,
   "metadata": {},
   "outputs": [],
   "source": [
    "client = mqttClient.Client(\"Sub-client_02\")        # create new instance\n",
    "client.username_pw_set(user, password=password)    # set username and password\n",
    "client.on_connect = on_connect                     # attach function to callback\n",
    "client.on_disconnect = on_disconnect               # attach function to callback\n",
    "client.connect(broker_address, port, 60) #connect\n",
    "client.subscribe(topic) #subscribe"
   ]
  },
  {
   "cell_type": "code",
   "execution_count": null,
   "metadata": {},
   "outputs": [],
   "source": [
    "pp = ProgressPlot(line_names=['Temperature', 'Humidity', 'Gas'])\n",
    "\n",
    "\n",
    "def on_message(client, userdata, message):\n",
    "    payload = message.payload.decode(\"utf-8\")\n",
    "    temperature, humidity, pressure, gas = payload.split()\n",
    "\n",
    "    pp.update([[float(temperature), float(humidity), float(gas)]])\n",
    "    \n",
    "client.on_message = on_message \n"
   ]
  },
  {
   "cell_type": "code",
   "execution_count": null,
   "metadata": {},
   "outputs": [],
   "source": [
    "client.loop_forever() #then keep listening forever"
   ]
  },
  {
   "cell_type": "code",
   "execution_count": null,
   "metadata": {},
   "outputs": [],
   "source": [
    "pp.finalize()"
   ]
  }
 ],
 "metadata": {
  "kernelspec": {
   "display_name": "Python 3",
   "language": "python",
   "name": "python3"
  },
  "language_info": {
   "codemirror_mode": {
    "name": "ipython",
    "version": 3
   },
   "file_extension": ".py",
   "mimetype": "text/x-python",
   "name": "python",
   "nbconvert_exporter": "python",
   "pygments_lexer": "ipython3",
   "version": "3.9.6"
  }
 },
 "nbformat": 4,
 "nbformat_minor": 5
}
